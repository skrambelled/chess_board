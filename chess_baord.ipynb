{
 "metadata": {
  "language_info": {
   "codemirror_mode": {
    "name": "ipython",
    "version": 3
   },
   "file_extension": ".py",
   "mimetype": "text/x-python",
   "name": "python",
   "nbconvert_exporter": "python",
   "pygments_lexer": "ipython3",
   "version": "3.9.0-final"
  },
  "orig_nbformat": 2,
  "kernelspec": {
   "name": "python39064bitvenvvenv2263262a640846fc958085abe3aded1a",
   "display_name": "Python 3.9.0 64-bit ('.venv': venv)"
  }
 },
 "nbformat": 4,
 "nbformat_minor": 2,
 "cells": [
  {
   "cell_type": "code",
   "execution_count": 21,
   "metadata": {},
   "outputs": [],
   "source": [
    "import numpy as np\n",
    "import matplotlib.pyplot as plt"
   ]
  },
  {
   "cell_type": "code",
   "execution_count": 31,
   "metadata": {},
   "outputs": [],
   "source": [
    "class Board:\n",
    "    def __init__(self):\n",
    "        self.num_rows = 8\n",
    "        self.num_cols = 8\n",
    "        self.square_size = 16\n",
    "        self.light_square_color = (.85, .85, .85)\n",
    "        self.dark_square_color = (.22, .5, .25)\n",
    "        self.light_piece_color = (.7, .1, .1)\n",
    "        self.dark_piece_color = (.1, .1, .7)\n",
    "\n",
    "        # this is a 3d matrix containing all of the RBG values for each pixel of the board\n",
    "        self.board = None\n",
    "\n",
    "        # a 2d matrix to contain each of the pieces. for now we'll just concern ourselves with two queen,\n",
    "        # which will be represented by a 202 for 'blue queen', and a 102 for 'red queen'\n",
    "        self.pieces = None\n",
    "\n",
    "        # piece as numbers:\n",
    "        # all light pieces will be in the 100's\n",
    "        # all dark pieces will be in the 200's\n",
    "        # king = 1\n",
    "        # queen = 2\n",
    "        # bishop = 3\n",
    "        # knight = 4\n",
    "        # rook = 5\n",
    "        # pawn = 6\n",
    "\n",
    "        # so a light knight would be 104\n",
    "        # a dark queen would be 202\n",
    "\n",
    "        # for this initital setup, red is light, blue is dark\n",
    "\n",
    "\n",
    "    def color_square(self, row, col, color):\n",
    "        \"\"\"\n",
    "        Color any given square with any color tuple\n",
    "        \"\"\"\n",
    "        for y in range(row * self.square_size, row * self.square_size + self.square_size):\n",
    "            for x in range(col * self.square_size, col * self.square_size + self.square_size):\n",
    "                if y % self.square_size < self.square_size*2:\n",
    "                    if x % self.square_size < self.square_size*2:\n",
    "                        self.board[y][x] = color\n",
    "\n",
    "    def reset_square(self, row, col):\n",
    "        \"\"\"\n",
    "        Set the board matrix at a given square to the proper base color, without any pieces on it\n",
    "        \"\"\"\n",
    "        if (row % 2 and col % 2) or (not row % 2 and not col % 2):\n",
    "            self.color_square(row, col, self.light_square_color)\n",
    "        else:\n",
    "            self.color_square(row, col, self.dark_square_color)\n",
    "\n",
    "    def initialize_board(self):\n",
    "        \"\"\"\n",
    "        Set up an empty board\n",
    "        \"\"\"\n",
    "        self.board = np.zeros((self.num_rows * self.square_size, self.num_cols * self.square_size, 3))\n",
    "        self.pieces = np.zeros((self.num_rows, self.num_cols))\n",
    "\n",
    "        for y in range(self.num_rows):\n",
    "            for x in range(self.num_cols):\n",
    "                self.reset_square(y, x)\n",
    "\n",
    "    def render(self):\n",
    "        \"\"\"\n",
    "        Draw the board, with pieces on it\n",
    "        \"\"\"\n",
    "        plt.imshow(self.board)\n",
    "\n",
    "\n",
    "    def add_piece(self, row, col, piece):\n",
    "        \"\"\"\n",
    "        Use a dictionary to lookup the shape of the piece to be drawn\n",
    "        \"\"\"\n",
    "\n",
    "        add_piece_to_board =  {\n",
    "            1: self.add_king,\n",
    "            2: self.add_queen,\n",
    "            3: self.add_bishop,\n",
    "            4: self.add_knight,\n",
    "            5: self.add_rook,\n",
    "            6: self.add_pawn,\n",
    "        }[piece%100]\n",
    "\n",
    "        if piece > 200:\n",
    "            color = self.dark_piece_color\n",
    "        else:\n",
    "            color = self.light_piece_color\n",
    "\n",
    "        self.pieces[row][col] = piece\n",
    "        add_piece_to_board(row, col, color)\n",
    "\n",
    "    def add_king(self, row, col, color):\n",
    "        pass\n",
    "\n",
    "    def add_queen(self, row, col, color):\n",
    "        for y in range(int(row * self.square_size + self.square_size/4), int(row * self.square_size + 3*self.square_size/4)):\n",
    "            for x in range(int(col * self.square_size + self.square_size/4), int(col * self.square_size + 3*self.square_size/4)):\n",
    "                if y % self.square_size < self.square_size*2:\n",
    "                    if x % self.square_size < self.square_size*2:\n",
    "                        self.board[y][x] = color\n",
    "    \n",
    "    def add_bishop(self, row, col, color):\n",
    "        pass\n",
    "\n",
    "    def add_knight(self, row, col, color):\n",
    "        pass\n",
    "\n",
    "    def add_rook(self, row, col, color):\n",
    "        pass\n",
    "\n",
    "    def add_pawn(self, row, col, color):\n",
    "        pass\n",
    "\n",
    "    # test function\n",
    "    def add_red(self, row, col):\n",
    "        self.add_piece(row, col, 102) # remember, we are representing the red queen as 102\n",
    "\n",
    "    # test function\n",
    "    def add_blue(self, row, col):\n",
    "        self.add_piece(row, col, 202) # remember, we are representing the blue queen as 202\n",
    "\n",
    "    # see if a blue queen is attacking the defined square, if a red queen exists there\n",
    "    def is_under_attack(self, my_row, my_col):\n",
    "        for row in range(len(self.pieces)):\n",
    "            for col in range(len(self.pieces[row])):\n",
    "                if int(self.pieces[row][col]) == 202:\n",
    "                    if my_row == row or my_col == col or abs(row-my_row) == abs(col-my_col):\n",
    "                        return True\n",
    "        return False\n",
    "        "
   ]
  },
  {
   "cell_type": "code",
   "execution_count": 32,
   "metadata": {},
   "outputs": [
    {
     "output_type": "display_data",
     "data": {
      "text/plain": "<Figure size 432x288 with 1 Axes>",
      "image/svg+xml": "<?xml version=\"1.0\" encoding=\"utf-8\" standalone=\"no\"?>\n<!DOCTYPE svg PUBLIC \"-//W3C//DTD SVG 1.1//EN\"\n  \"http://www.w3.org/Graphics/SVG/1.1/DTD/svg11.dtd\">\n<!-- Created with matplotlib (https://matplotlib.org/) -->\n<svg height=\"251.467969pt\" version=\"1.1\" viewBox=\"0 0 257.9275 251.467969\" width=\"257.9275pt\" xmlns=\"http://www.w3.org/2000/svg\" xmlns:xlink=\"http://www.w3.org/1999/xlink\">\n <metadata>\n  <rdf:RDF xmlns:cc=\"http://creativecommons.org/ns#\" xmlns:dc=\"http://purl.org/dc/elements/1.1/\" xmlns:rdf=\"http://www.w3.org/1999/02/22-rdf-syntax-ns#\">\n   <cc:Work>\n    <dc:type rdf:resource=\"http://purl.org/dc/dcmitype/StillImage\"/>\n    <dc:date>2020-11-23T18:21:21.181554</dc:date>\n    <dc:format>image/svg+xml</dc:format>\n    <dc:creator>\n     <cc:Agent>\n      <dc:title>Matplotlib v3.3.3, https://matplotlib.org/</dc:title>\n     </cc:Agent>\n    </dc:creator>\n   </cc:Work>\n  </rdf:RDF>\n </metadata>\n <defs>\n  <style type=\"text/css\">*{stroke-linecap:butt;stroke-linejoin:round;}</style>\n </defs>\n <g id=\"figure_1\">\n  <g id=\"patch_1\">\n   <path d=\"M 0 251.467969 \nL 257.9275 251.467969 \nL 257.9275 0 \nL 0 0 \nz\n\" style=\"fill:none;\"/>\n  </g>\n  <g id=\"axes_1\">\n   <g id=\"patch_2\">\n    <path d=\"M 33.2875 227.589844 \nL 250.7275 227.589844 \nL 250.7275 10.149844 \nL 33.2875 10.149844 \nz\n\" style=\"fill:#ffffff;\"/>\n   </g>\n   <g clip-path=\"url(#p9a3ef9b87d)\">\n    <image height=\"218\" id=\"image29d36fa7d9\" transform=\"scale(1 -1)translate(0 -218)\" width=\"218\" x=\"33.2875\" xlink:href=\"data:image/png;base64,\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\" y=\"-9.589844\"/>\n   </g>\n   <g id=\"matplotlib.axis_1\">\n    <g id=\"xtick_1\">\n     <g id=\"line2d_1\">\n      <defs>\n       <path d=\"M 0 0 \nL 0 3.5 \n\" id=\"m27d4261859\" style=\"stroke:#000000;stroke-width:0.8;\"/>\n      </defs>\n      <g>\n       <use style=\"stroke:#000000;stroke-width:0.8;\" x=\"34.136875\" xlink:href=\"#m27d4261859\" y=\"227.589844\"/>\n      </g>\n     </g>\n     <g id=\"text_1\">\n      <!-- 0 -->\n      <g transform=\"translate(30.955625 242.188281)scale(0.1 -0.1)\">\n       <defs>\n        <path d=\"M 31.78125 66.40625 \nQ 24.171875 66.40625 20.328125 58.90625 \nQ 16.5 51.421875 16.5 36.375 \nQ 16.5 21.390625 20.328125 13.890625 \nQ 24.171875 6.390625 31.78125 6.390625 \nQ 39.453125 6.390625 43.28125 13.890625 \nQ 47.125 21.390625 47.125 36.375 \nQ 47.125 51.421875 43.28125 58.90625 \nQ 39.453125 66.40625 31.78125 66.40625 \nz\nM 31.78125 74.21875 \nQ 44.046875 74.21875 50.515625 64.515625 \nQ 56.984375 54.828125 56.984375 36.375 \nQ 56.984375 17.96875 50.515625 8.265625 \nQ 44.046875 -1.421875 31.78125 -1.421875 \nQ 19.53125 -1.421875 13.0625 8.265625 \nQ 6.59375 17.96875 6.59375 36.375 \nQ 6.59375 54.828125 13.0625 64.515625 \nQ 19.53125 74.21875 31.78125 74.21875 \nz\n\" id=\"DejaVuSans-48\"/>\n       </defs>\n       <use xlink:href=\"#DejaVuSans-48\"/>\n      </g>\n     </g>\n    </g>\n    <g id=\"xtick_2\">\n     <g id=\"line2d_2\">\n      <g>\n       <use style=\"stroke:#000000;stroke-width:0.8;\" x=\"68.111875\" xlink:href=\"#m27d4261859\" y=\"227.589844\"/>\n      </g>\n     </g>\n     <g id=\"text_2\">\n      <!-- 20 -->\n      <g transform=\"translate(61.749375 242.188281)scale(0.1 -0.1)\">\n       <defs>\n        <path d=\"M 19.1875 8.296875 \nL 53.609375 8.296875 \nL 53.609375 0 \nL 7.328125 0 \nL 7.328125 8.296875 \nQ 12.9375 14.109375 22.625 23.890625 \nQ 32.328125 33.6875 34.8125 36.53125 \nQ 39.546875 41.84375 41.421875 45.53125 \nQ 43.3125 49.21875 43.3125 52.78125 \nQ 43.3125 58.59375 39.234375 62.25 \nQ 35.15625 65.921875 28.609375 65.921875 \nQ 23.96875 65.921875 18.8125 64.3125 \nQ 13.671875 62.703125 7.8125 59.421875 \nL 7.8125 69.390625 \nQ 13.765625 71.78125 18.9375 73 \nQ 24.125 74.21875 28.421875 74.21875 \nQ 39.75 74.21875 46.484375 68.546875 \nQ 53.21875 62.890625 53.21875 53.421875 \nQ 53.21875 48.921875 51.53125 44.890625 \nQ 49.859375 40.875 45.40625 35.40625 \nQ 44.1875 33.984375 37.640625 27.21875 \nQ 31.109375 20.453125 19.1875 8.296875 \nz\n\" id=\"DejaVuSans-50\"/>\n       </defs>\n       <use xlink:href=\"#DejaVuSans-50\"/>\n       <use x=\"63.623047\" xlink:href=\"#DejaVuSans-48\"/>\n      </g>\n     </g>\n    </g>\n    <g id=\"xtick_3\">\n     <g id=\"line2d_3\">\n      <g>\n       <use style=\"stroke:#000000;stroke-width:0.8;\" x=\"102.086875\" xlink:href=\"#m27d4261859\" y=\"227.589844\"/>\n      </g>\n     </g>\n     <g id=\"text_3\">\n      <!-- 40 -->\n      <g transform=\"translate(95.724375 242.188281)scale(0.1 -0.1)\">\n       <defs>\n        <path d=\"M 37.796875 64.3125 \nL 12.890625 25.390625 \nL 37.796875 25.390625 \nz\nM 35.203125 72.90625 \nL 47.609375 72.90625 \nL 47.609375 25.390625 \nL 58.015625 25.390625 \nL 58.015625 17.1875 \nL 47.609375 17.1875 \nL 47.609375 0 \nL 37.796875 0 \nL 37.796875 17.1875 \nL 4.890625 17.1875 \nL 4.890625 26.703125 \nz\n\" id=\"DejaVuSans-52\"/>\n       </defs>\n       <use xlink:href=\"#DejaVuSans-52\"/>\n       <use x=\"63.623047\" xlink:href=\"#DejaVuSans-48\"/>\n      </g>\n     </g>\n    </g>\n    <g id=\"xtick_4\">\n     <g id=\"line2d_4\">\n      <g>\n       <use style=\"stroke:#000000;stroke-width:0.8;\" x=\"136.061875\" xlink:href=\"#m27d4261859\" y=\"227.589844\"/>\n      </g>\n     </g>\n     <g id=\"text_4\">\n      <!-- 60 -->\n      <g transform=\"translate(129.699375 242.188281)scale(0.1 -0.1)\">\n       <defs>\n        <path d=\"M 33.015625 40.375 \nQ 26.375 40.375 22.484375 35.828125 \nQ 18.609375 31.296875 18.609375 23.390625 \nQ 18.609375 15.53125 22.484375 10.953125 \nQ 26.375 6.390625 33.015625 6.390625 \nQ 39.65625 6.390625 43.53125 10.953125 \nQ 47.40625 15.53125 47.40625 23.390625 \nQ 47.40625 31.296875 43.53125 35.828125 \nQ 39.65625 40.375 33.015625 40.375 \nz\nM 52.59375 71.296875 \nL 52.59375 62.3125 \nQ 48.875 64.0625 45.09375 64.984375 \nQ 41.3125 65.921875 37.59375 65.921875 \nQ 27.828125 65.921875 22.671875 59.328125 \nQ 17.53125 52.734375 16.796875 39.40625 \nQ 19.671875 43.65625 24.015625 45.921875 \nQ 28.375 48.1875 33.59375 48.1875 \nQ 44.578125 48.1875 50.953125 41.515625 \nQ 57.328125 34.859375 57.328125 23.390625 \nQ 57.328125 12.15625 50.6875 5.359375 \nQ 44.046875 -1.421875 33.015625 -1.421875 \nQ 20.359375 -1.421875 13.671875 8.265625 \nQ 6.984375 17.96875 6.984375 36.375 \nQ 6.984375 53.65625 15.1875 63.9375 \nQ 23.390625 74.21875 37.203125 74.21875 \nQ 40.921875 74.21875 44.703125 73.484375 \nQ 48.484375 72.75 52.59375 71.296875 \nz\n\" id=\"DejaVuSans-54\"/>\n       </defs>\n       <use xlink:href=\"#DejaVuSans-54\"/>\n       <use x=\"63.623047\" xlink:href=\"#DejaVuSans-48\"/>\n      </g>\n     </g>\n    </g>\n    <g id=\"xtick_5\">\n     <g id=\"line2d_5\">\n      <g>\n       <use style=\"stroke:#000000;stroke-width:0.8;\" x=\"170.036875\" xlink:href=\"#m27d4261859\" y=\"227.589844\"/>\n      </g>\n     </g>\n     <g id=\"text_5\">\n      <!-- 80 -->\n      <g transform=\"translate(163.674375 242.188281)scale(0.1 -0.1)\">\n       <defs>\n        <path d=\"M 31.78125 34.625 \nQ 24.75 34.625 20.71875 30.859375 \nQ 16.703125 27.09375 16.703125 20.515625 \nQ 16.703125 13.921875 20.71875 10.15625 \nQ 24.75 6.390625 31.78125 6.390625 \nQ 38.8125 6.390625 42.859375 10.171875 \nQ 46.921875 13.96875 46.921875 20.515625 \nQ 46.921875 27.09375 42.890625 30.859375 \nQ 38.875 34.625 31.78125 34.625 \nz\nM 21.921875 38.8125 \nQ 15.578125 40.375 12.03125 44.71875 \nQ 8.5 49.078125 8.5 55.328125 \nQ 8.5 64.0625 14.71875 69.140625 \nQ 20.953125 74.21875 31.78125 74.21875 \nQ 42.671875 74.21875 48.875 69.140625 \nQ 55.078125 64.0625 55.078125 55.328125 \nQ 55.078125 49.078125 51.53125 44.71875 \nQ 48 40.375 41.703125 38.8125 \nQ 48.828125 37.15625 52.796875 32.3125 \nQ 56.78125 27.484375 56.78125 20.515625 \nQ 56.78125 9.90625 50.3125 4.234375 \nQ 43.84375 -1.421875 31.78125 -1.421875 \nQ 19.734375 -1.421875 13.25 4.234375 \nQ 6.78125 9.90625 6.78125 20.515625 \nQ 6.78125 27.484375 10.78125 32.3125 \nQ 14.796875 37.15625 21.921875 38.8125 \nz\nM 18.3125 54.390625 \nQ 18.3125 48.734375 21.84375 45.5625 \nQ 25.390625 42.390625 31.78125 42.390625 \nQ 38.140625 42.390625 41.71875 45.5625 \nQ 45.3125 48.734375 45.3125 54.390625 \nQ 45.3125 60.0625 41.71875 63.234375 \nQ 38.140625 66.40625 31.78125 66.40625 \nQ 25.390625 66.40625 21.84375 63.234375 \nQ 18.3125 60.0625 18.3125 54.390625 \nz\n\" id=\"DejaVuSans-56\"/>\n       </defs>\n       <use xlink:href=\"#DejaVuSans-56\"/>\n       <use x=\"63.623047\" xlink:href=\"#DejaVuSans-48\"/>\n      </g>\n     </g>\n    </g>\n    <g id=\"xtick_6\">\n     <g id=\"line2d_6\">\n      <g>\n       <use style=\"stroke:#000000;stroke-width:0.8;\" x=\"204.011875\" xlink:href=\"#m27d4261859\" y=\"227.589844\"/>\n      </g>\n     </g>\n     <g id=\"text_6\">\n      <!-- 100 -->\n      <g transform=\"translate(194.468125 242.188281)scale(0.1 -0.1)\">\n       <defs>\n        <path d=\"M 12.40625 8.296875 \nL 28.515625 8.296875 \nL 28.515625 63.921875 \nL 10.984375 60.40625 \nL 10.984375 69.390625 \nL 28.421875 72.90625 \nL 38.28125 72.90625 \nL 38.28125 8.296875 \nL 54.390625 8.296875 \nL 54.390625 0 \nL 12.40625 0 \nz\n\" id=\"DejaVuSans-49\"/>\n       </defs>\n       <use xlink:href=\"#DejaVuSans-49\"/>\n       <use x=\"63.623047\" xlink:href=\"#DejaVuSans-48\"/>\n       <use x=\"127.246094\" xlink:href=\"#DejaVuSans-48\"/>\n      </g>\n     </g>\n    </g>\n    <g id=\"xtick_7\">\n     <g id=\"line2d_7\">\n      <g>\n       <use style=\"stroke:#000000;stroke-width:0.8;\" x=\"237.986875\" xlink:href=\"#m27d4261859\" y=\"227.589844\"/>\n      </g>\n     </g>\n     <g id=\"text_7\">\n      <!-- 120 -->\n      <g transform=\"translate(228.443125 242.188281)scale(0.1 -0.1)\">\n       <use xlink:href=\"#DejaVuSans-49\"/>\n       <use x=\"63.623047\" xlink:href=\"#DejaVuSans-50\"/>\n       <use x=\"127.246094\" xlink:href=\"#DejaVuSans-48\"/>\n      </g>\n     </g>\n    </g>\n   </g>\n   <g id=\"matplotlib.axis_2\">\n    <g id=\"ytick_1\">\n     <g id=\"line2d_8\">\n      <defs>\n       <path d=\"M 0 0 \nL -3.5 0 \n\" id=\"macf9c4bbc3\" style=\"stroke:#000000;stroke-width:0.8;\"/>\n      </defs>\n      <g>\n       <use style=\"stroke:#000000;stroke-width:0.8;\" x=\"33.2875\" xlink:href=\"#macf9c4bbc3\" y=\"10.999219\"/>\n      </g>\n     </g>\n     <g id=\"text_8\">\n      <!-- 0 -->\n      <g transform=\"translate(19.925 14.798438)scale(0.1 -0.1)\">\n       <use xlink:href=\"#DejaVuSans-48\"/>\n      </g>\n     </g>\n    </g>\n    <g id=\"ytick_2\">\n     <g id=\"line2d_9\">\n      <g>\n       <use style=\"stroke:#000000;stroke-width:0.8;\" x=\"33.2875\" xlink:href=\"#macf9c4bbc3\" y=\"44.974219\"/>\n      </g>\n     </g>\n     <g id=\"text_9\">\n      <!-- 20 -->\n      <g transform=\"translate(13.5625 48.773438)scale(0.1 -0.1)\">\n       <use xlink:href=\"#DejaVuSans-50\"/>\n       <use x=\"63.623047\" xlink:href=\"#DejaVuSans-48\"/>\n      </g>\n     </g>\n    </g>\n    <g id=\"ytick_3\">\n     <g id=\"line2d_10\">\n      <g>\n       <use style=\"stroke:#000000;stroke-width:0.8;\" x=\"33.2875\" xlink:href=\"#macf9c4bbc3\" y=\"78.949219\"/>\n      </g>\n     </g>\n     <g id=\"text_10\">\n      <!-- 40 -->\n      <g transform=\"translate(13.5625 82.748437)scale(0.1 -0.1)\">\n       <use xlink:href=\"#DejaVuSans-52\"/>\n       <use x=\"63.623047\" xlink:href=\"#DejaVuSans-48\"/>\n      </g>\n     </g>\n    </g>\n    <g id=\"ytick_4\">\n     <g id=\"line2d_11\">\n      <g>\n       <use style=\"stroke:#000000;stroke-width:0.8;\" x=\"33.2875\" xlink:href=\"#macf9c4bbc3\" y=\"112.924219\"/>\n      </g>\n     </g>\n     <g id=\"text_11\">\n      <!-- 60 -->\n      <g transform=\"translate(13.5625 116.723438)scale(0.1 -0.1)\">\n       <use xlink:href=\"#DejaVuSans-54\"/>\n       <use x=\"63.623047\" xlink:href=\"#DejaVuSans-48\"/>\n      </g>\n     </g>\n    </g>\n    <g id=\"ytick_5\">\n     <g id=\"line2d_12\">\n      <g>\n       <use style=\"stroke:#000000;stroke-width:0.8;\" x=\"33.2875\" xlink:href=\"#macf9c4bbc3\" y=\"146.899219\"/>\n      </g>\n     </g>\n     <g id=\"text_12\">\n      <!-- 80 -->\n      <g transform=\"translate(13.5625 150.698438)scale(0.1 -0.1)\">\n       <use xlink:href=\"#DejaVuSans-56\"/>\n       <use x=\"63.623047\" xlink:href=\"#DejaVuSans-48\"/>\n      </g>\n     </g>\n    </g>\n    <g id=\"ytick_6\">\n     <g id=\"line2d_13\">\n      <g>\n       <use style=\"stroke:#000000;stroke-width:0.8;\" x=\"33.2875\" xlink:href=\"#macf9c4bbc3\" y=\"180.874219\"/>\n      </g>\n     </g>\n     <g id=\"text_13\">\n      <!-- 100 -->\n      <g transform=\"translate(7.2 184.673438)scale(0.1 -0.1)\">\n       <use xlink:href=\"#DejaVuSans-49\"/>\n       <use x=\"63.623047\" xlink:href=\"#DejaVuSans-48\"/>\n       <use x=\"127.246094\" xlink:href=\"#DejaVuSans-48\"/>\n      </g>\n     </g>\n    </g>\n    <g id=\"ytick_7\">\n     <g id=\"line2d_14\">\n      <g>\n       <use style=\"stroke:#000000;stroke-width:0.8;\" x=\"33.2875\" xlink:href=\"#macf9c4bbc3\" y=\"214.849219\"/>\n      </g>\n     </g>\n     <g id=\"text_14\">\n      <!-- 120 -->\n      <g transform=\"translate(7.2 218.648438)scale(0.1 -0.1)\">\n       <use xlink:href=\"#DejaVuSans-49\"/>\n       <use x=\"63.623047\" xlink:href=\"#DejaVuSans-50\"/>\n       <use x=\"127.246094\" xlink:href=\"#DejaVuSans-48\"/>\n      </g>\n     </g>\n    </g>\n   </g>\n   <g id=\"patch_3\">\n    <path d=\"M 33.2875 227.589844 \nL 33.2875 10.149844 \n\" style=\"fill:none;stroke:#000000;stroke-linecap:square;stroke-linejoin:miter;stroke-width:0.8;\"/>\n   </g>\n   <g id=\"patch_4\">\n    <path d=\"M 250.7275 227.589844 \nL 250.7275 10.149844 \n\" style=\"fill:none;stroke:#000000;stroke-linecap:square;stroke-linejoin:miter;stroke-width:0.8;\"/>\n   </g>\n   <g id=\"patch_5\">\n    <path d=\"M 33.2875 227.589844 \nL 250.7275 227.589844 \n\" style=\"fill:none;stroke:#000000;stroke-linecap:square;stroke-linejoin:miter;stroke-width:0.8;\"/>\n   </g>\n   <g id=\"patch_6\">\n    <path d=\"M 33.2875 10.149844 \nL 250.7275 10.149844 \n\" style=\"fill:none;stroke:#000000;stroke-linecap:square;stroke-linejoin:miter;stroke-width:0.8;\"/>\n   </g>\n  </g>\n </g>\n <defs>\n  <clipPath id=\"p9a3ef9b87d\">\n   <rect height=\"217.44\" width=\"217.44\" x=\"33.2875\" y=\"10.149844\"/>\n  </clipPath>\n </defs>\n</svg>\n",
      "image/png": "[encoded data removed]"
     },
     "metadata": {
      "needs_background": "light"
     }
    }
   ],
   "source": [
    "board = Board()\n",
    "board.initialize_board()\n",
    "board.add_red(4, 5)\n",
    "board.add_blue(4, 4)\n",
    "board.render()\n"
   ]
  },
  {
   "cell_type": "code",
   "execution_count": 33,
   "metadata": {},
   "outputs": [
    {
     "output_type": "error",
     "ename": "AssertionError",
     "evalue": "",
     "traceback": [
      "\u001b[0;31m---------------------------------------------------------------------------\u001b[0m",
      "\u001b[0;31mAssertionError\u001b[0m                            Traceback (most recent call last)",
      "\u001b[0;32m<ipython-input-33-cafb167c7116>\u001b[0m in \u001b[0;36m<module>\u001b[0;34m\u001b[0m\n\u001b[0;32m----> 1\u001b[0;31m \u001b[0;32massert\u001b[0m \u001b[0mboard\u001b[0m\u001b[0;34m.\u001b[0m\u001b[0mis_under_attack\u001b[0m\u001b[0;34m(\u001b[0m\u001b[0;36m5\u001b[0m\u001b[0;34m,\u001b[0m \u001b[0;36m5\u001b[0m\u001b[0;34m)\u001b[0m \u001b[0;32mis\u001b[0m \u001b[0;32mTrue\u001b[0m\u001b[0;34m\u001b[0m\u001b[0;34m\u001b[0m\u001b[0m\n\u001b[0m",
      "\u001b[0;31mAssertionError\u001b[0m: "
     ]
    }
   ],
   "source": [
    "assert board.is_under_attack(5, 5) is True"
   ]
  },
  {
   "cell_type": "code",
   "execution_count": 34,
   "metadata": {},
   "outputs": [],
   "source": [
    "assert board.is_under_attack(5, 5) is False"
   ]
  },
  {
   "cell_type": "code",
   "execution_count": 35,
   "metadata": {},
   "outputs": [
    {
     "output_type": "execute_result",
     "data": {
      "text/plain": [
       "array([[  0.,   0.,   0.,   0.,   0.,   0.,   0.,   0.],\n",
       "       [  0.,   0.,   0.,   0.,   0.,   0.,   0.,   0.],\n",
       "       [  0.,   0.,   0.,   0.,   0.,   0.,   0.,   0.],\n",
       "       [  0.,   0.,   0.,   0.,   0.,   0.,   0.,   0.],\n",
       "       [  0.,   0.,   0.,   0., 202., 102.,   0.,   0.],\n",
       "       [  0.,   0.,   0.,   0.,   0.,   0.,   0.,   0.],\n",
       "       [  0.,   0.,   0.,   0.,   0.,   0.,   0.,   0.],\n",
       "       [  0.,   0.,   0.,   0.,   0.,   0.,   0.,   0.]])"
      ]
     },
     "metadata": {},
     "execution_count": 35
    }
   ],
   "source": [
    "board.pieces"
   ]
  },
  {
   "cell_type": "code",
   "execution_count": null,
   "metadata": {},
   "outputs": [],
   "source": []
  }
 ]
}